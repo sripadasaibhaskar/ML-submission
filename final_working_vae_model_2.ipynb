{
  "nbformat": 4,
  "nbformat_minor": 0,
  "metadata": {
    "colab": {
      "name": "vae_working_model_2.ipynb",
      "provenance": [],
      "collapsed_sections": []
    },
    "kernelspec": {
      "name": "python3",
      "display_name": "Python 3"
    }
  },
  "cells": [
    {
      "cell_type": "code",
      "metadata": {
        "id": "w_AAIvmW2j_U"
      },
      "source": [
        "import matplotlib.pyplot as plt\n",
        "import keras\n",
        "from keras.layers import Dense, Lambda\n",
        "from keras import backend as K\n",
        "from keras.datasets.mnist import load_data\n",
        "import numpy as np\n",
        "from keras.optimizers import Adam"
      ],
      "execution_count": 1,
      "outputs": []
    },
    {
      "cell_type": "code",
      "metadata": {
        "id": "1i0MesE5-KKE"
      },
      "source": [
        "input_size = 28 * 28\r\n",
        "temp_size = 128\r\n",
        "latent_dim = 2"
      ],
      "execution_count": 2,
      "outputs": []
    },
    {
      "cell_type": "code",
      "metadata": {
        "id": "ou94OCxP-QKW"
      },
      "source": [
        "# defining model\r\n",
        "inputs = keras.Input(shape=(input_size,))\r\n",
        "x = Dense(temp_size, activation='relu')(inputs)\r\n",
        "x = Dense(temp_size, activation='relu')(x)\r\n",
        "z_mean = Dense(latent_dim)(x)\r\n",
        "z_log_sigma = Dense(latent_dim)(x)\r\n",
        "\r\n",
        "def sampling(args):\r\n",
        "    z_mean, z_log_sigma = args\r\n",
        "    epsilon = K.random_normal(shape=(K.shape(z_mean)[0], latent_dim), mean=0., stddev=0.1)\r\n",
        "    return z_mean + K.exp(z_log_sigma) * epsilon\r\n",
        "z = Lambda(sampling)([z_mean, z_log_sigma])\r\n",
        "\r\n",
        "#encoder\r\n",
        "encoder = keras.Model(inputs, [z_mean, z_log_sigma, z])\r\n",
        "\r\n",
        "#deocder\r\n",
        "latent_inputs = keras.Input(shape=(latent_dim,))\r\n",
        "y= Dense(temp_size, activation='relu')(latent_inputs)\r\n",
        "y= Dense(temp_size, activation='relu')(y)\r\n",
        "outputs = Dense(input_size, activation='sigmoid')(y)\r\n",
        "decoder = keras.Model(latent_inputs, outputs)\r\n",
        "\r\n",
        "outputs = decoder(encoder(inputs)[2])\r\n",
        "final_model = keras.Model(inputs, outputs)"
      ],
      "execution_count": 3,
      "outputs": []
    },
    {
      "cell_type": "code",
      "metadata": {
        "id": "wcQg74j4-k9c"
      },
      "source": [
        "reconstruction_loss = keras.losses.binary_crossentropy(inputs, outputs)\r\n",
        "reconstruction_loss = reconstruction_loss * input_size\r\n",
        "kl_loss = -0.5 * K.sum((1 + z_log_sigma - K.square(z_mean) - K.exp(z_log_sigma)), axis=-1)\r\n",
        "final_loss = K.mean(reconstruction_loss + kl_loss)\r\n",
        "final_model.add_loss(final_loss)\r\n",
        "opt = Adam(lr=0.0002)\r\n",
        "final_model.compile(optimizer=opt)"
      ],
      "execution_count": null,
      "outputs": []
    },
    {
      "cell_type": "code",
      "metadata": {
        "colab": {
          "base_uri": "https://localhost:8080/"
        },
        "id": "vOHHlG3L9yY0",
        "outputId": "90097a4e-4e27-4035-9c03-01d3ea9064ce"
      },
      "source": [
        "# loading data\n",
        "(x_train, y_train), (x_test, y_test) = load_data()\n",
        "x_train = x_train.astype('float32')\n",
        "x_train = x_train / 255.\n",
        "x_test = x_test.astype('float32')\n",
        "x_test = x_test / 255.\n",
        "x_train = x_train.reshape((len(x_train), 28*28))\n",
        "x_test = x_test.reshape((len(x_test), 28*28))"
      ],
      "execution_count": null,
      "outputs": [
        {
          "output_type": "stream",
          "text": [
            "Downloading data from https://storage.googleapis.com/tensorflow/tf-keras-datasets/mnist.npz\n",
            "11493376/11490434 [==============================] - 0s 0us/step\n"
          ],
          "name": "stdout"
        }
      ]
    },
    {
      "cell_type": "code",
      "metadata": {
        "colab": {
          "base_uri": "https://localhost:8080/"
        },
        "id": "QljOgYAn-nmq",
        "outputId": "547b9afb-23d6-4d1f-e480-cc80d205232a"
      },
      "source": [
        "# training\r\n",
        "callback = keras.callbacks.EarlyStopping(monitor='loss', patience=3)\r\n",
        "\r\n",
        "final_model.fit(x_train, x_train, epochs=25, batch_size=64, validation_data=(x_test, x_test), callbacks=[callback])"
      ],
      "execution_count": null,
      "outputs": [
        {
          "output_type": "stream",
          "text": [
            "Epoch 1/25\n",
            "938/938 [==============================] - 6s 6ms/step - loss: 222.3741 - val_loss: 177.4340\n",
            "Epoch 2/25\n",
            "938/938 [==============================] - 6s 6ms/step - loss: 171.9781 - val_loss: 168.1769\n",
            "Epoch 3/25\n",
            "938/938 [==============================] - 6s 6ms/step - loss: 166.3646 - val_loss: 164.4903\n",
            "Epoch 4/25\n",
            "938/938 [==============================] - 6s 6ms/step - loss: 163.3598 - val_loss: 162.1370\n",
            "Epoch 5/25\n",
            "938/938 [==============================] - 6s 6ms/step - loss: 161.1463 - val_loss: 160.2586\n",
            "Epoch 6/25\n",
            "938/938 [==============================] - 6s 6ms/step - loss: 159.1906 - val_loss: 158.4303\n",
            "Epoch 7/25\n",
            "938/938 [==============================] - 6s 6ms/step - loss: 157.3469 - val_loss: 156.7083\n",
            "Epoch 8/25\n",
            "938/938 [==============================] - 6s 6ms/step - loss: 155.6376 - val_loss: 155.1660\n",
            "Epoch 9/25\n",
            "938/938 [==============================] - 6s 6ms/step - loss: 154.1398 - val_loss: 153.8527\n",
            "Epoch 10/25\n",
            "938/938 [==============================] - 6s 6ms/step - loss: 152.8677 - val_loss: 152.4954\n",
            "Epoch 11/25\n",
            "938/938 [==============================] - 6s 6ms/step - loss: 151.8216 - val_loss: 151.5427\n",
            "Epoch 12/25\n",
            "938/938 [==============================] - 6s 6ms/step - loss: 150.9194 - val_loss: 151.0350\n",
            "Epoch 13/25\n",
            "938/938 [==============================] - 6s 6ms/step - loss: 150.1628 - val_loss: 150.2919\n",
            "Epoch 14/25\n",
            "938/938 [==============================] - 6s 6ms/step - loss: 149.5192 - val_loss: 149.8368\n",
            "Epoch 15/25\n",
            "938/938 [==============================] - 6s 6ms/step - loss: 148.9475 - val_loss: 149.3440\n",
            "Epoch 16/25\n",
            "938/938 [==============================] - 6s 6ms/step - loss: 148.4217 - val_loss: 148.8840\n",
            "Epoch 17/25\n",
            "938/938 [==============================] - 6s 6ms/step - loss: 147.9931 - val_loss: 148.5518\n",
            "Epoch 18/25\n",
            "938/938 [==============================] - 6s 6ms/step - loss: 147.5339 - val_loss: 148.2335\n",
            "Epoch 19/25\n",
            "938/938 [==============================] - 6s 6ms/step - loss: 147.1562 - val_loss: 148.0243\n",
            "Epoch 20/25\n",
            "938/938 [==============================] - 6s 6ms/step - loss: 146.7589 - val_loss: 147.5541\n",
            "Epoch 21/25\n",
            "938/938 [==============================] - 6s 6ms/step - loss: 146.4277 - val_loss: 147.5586\n",
            "Epoch 22/25\n",
            "938/938 [==============================] - 6s 6ms/step - loss: 146.0922 - val_loss: 147.1698\n",
            "Epoch 23/25\n",
            "938/938 [==============================] - 6s 6ms/step - loss: 145.7648 - val_loss: 146.7470\n",
            "Epoch 24/25\n",
            "938/938 [==============================] - 6s 6ms/step - loss: 145.4545 - val_loss: 146.4825\n",
            "Epoch 25/25\n",
            "938/938 [==============================] - 6s 6ms/step - loss: 145.1455 - val_loss: 146.1797\n"
          ],
          "name": "stdout"
        },
        {
          "output_type": "execute_result",
          "data": {
            "text/plain": [
              "<tensorflow.python.keras.callbacks.History at 0x7f5accef26a0>"
            ]
          },
          "metadata": {
            "tags": []
          },
          "execution_count": 6
        }
      ]
    },
    {
      "cell_type": "code",
      "metadata": {
        "id": "ncEjkrZT_CE_",
        "colab": {
          "base_uri": "https://localhost:8080/",
          "height": 248
        },
        "outputId": "52e260af-c19c-4392-d920-9fefd4d25e2b"
      },
      "source": [
        "# plotting generated images\n",
        "for i in range(16):\n",
        "  plt.subplot(4,4,i+1)\n",
        "  plt.axis('off')\n",
        "  x_decoded = decoder.predict(np.array([[np.random.uniform(-15,15),np.random.uniform(-15,15)]]))\n",
        "  plt.imshow(x_decoded[0].reshape(28, 28), cmap='gray_r')\n",
        "plt.show()"
      ],
      "execution_count": null,
      "outputs": [
        {
          "output_type": "display_data",
          "data": {
            "image/png": "[encoded data removed]",
            "text/plain": [
              "<Figure size 432x288 with 16 Axes>"
            ]
          },
          "metadata": {
            "tags": [],
            "needs_background": "light"
          }
        }
      ]
    },
    {
      "cell_type": "code",
      "metadata": {
        "id": "2jvE7tcO8X6L",
        "colab": {
          "base_uri": "https://localhost:8080/"
        },
        "outputId": "a6be389a-d2fe-4fb8-c06a-97a44416ff18"
      },
      "source": [
        "encoder.summary()"
      ],
      "execution_count": 4,
      "outputs": [
        {
          "output_type": "stream",
          "text": [
            "Model: \"functional_1\"\n",
            "__________________________________________________________________________________________________\n",
            "Layer (type)                    Output Shape         Param #     Connected to                     \n",
            "==================================================================================================\n",
            "input_1 (InputLayer)            [(None, 784)]        0                                            \n",
            "__________________________________________________________________________________________________\n",
            "dense (Dense)                   (None, 128)          100480      input_1[0][0]                    \n",
            "__________________________________________________________________________________________________\n",
            "dense_1 (Dense)                 (None, 128)          16512       dense[0][0]                      \n",
            "__________________________________________________________________________________________________\n",
            "dense_2 (Dense)                 (None, 2)            258         dense_1[0][0]                    \n",
            "__________________________________________________________________________________________________\n",
            "dense_3 (Dense)                 (None, 2)            258         dense_1[0][0]                    \n",
            "__________________________________________________________________________________________________\n",
            "lambda (Lambda)                 (None, 2)            0           dense_2[0][0]                    \n",
            "                                                                 dense_3[0][0]                    \n",
            "==================================================================================================\n",
            "Total params: 117,508\n",
            "Trainable params: 117,508\n",
            "Non-trainable params: 0\n",
            "__________________________________________________________________________________________________\n"
          ],
          "name": "stdout"
        }
      ]
    },
    {
      "cell_type": "code",
      "metadata": {
        "colab": {
          "base_uri": "https://localhost:8080/"
        },
        "id": "TKJSRwx3vLqC",
        "outputId": "bb4bbb37-48dd-47c7-ffb2-0e28b837b15a"
      },
      "source": [
        "decoder.summary()"
      ],
      "execution_count": 5,
      "outputs": [
        {
          "output_type": "stream",
          "text": [
            "Model: \"functional_3\"\n",
            "_________________________________________________________________\n",
            "Layer (type)                 Output Shape              Param #   \n",
            "=================================================================\n",
            "input_2 (InputLayer)         [(None, 2)]               0         \n",
            "_________________________________________________________________\n",
            "dense_4 (Dense)              (None, 128)               384       \n",
            "_________________________________________________________________\n",
            "dense_5 (Dense)              (None, 128)               16512     \n",
            "_________________________________________________________________\n",
            "dense_6 (Dense)              (None, 784)               101136    \n",
            "=================================================================\n",
            "Total params: 118,032\n",
            "Trainable params: 118,032\n",
            "Non-trainable params: 0\n",
            "_________________________________________________________________\n"
          ],
          "name": "stdout"
        }
      ]
    },
    {
      "cell_type": "code",
      "metadata": {
        "id": "dL8YAL8KvNJ_"
      },
      "source": [
        ""
      ],
      "execution_count": null,
      "outputs": []
    }
  ]
}