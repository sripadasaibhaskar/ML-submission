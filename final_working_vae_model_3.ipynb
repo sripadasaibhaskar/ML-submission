{
  "nbformat": 4,
  "nbformat_minor": 0,
  "metadata": {
    "colab": {
      "name": "vae_working_model_3.ipynb",
      "provenance": [],
      "collapsed_sections": []
    },
    "kernelspec": {
      "name": "python3",
      "display_name": "Python 3"
    }
  },
  "cells": [
    {
      "cell_type": "code",
      "metadata": {
        "id": "w_AAIvmW2j_U"
      },
      "source": [
        "import matplotlib.pyplot as plt\n",
        "import keras\n",
        "from keras.layers import Dense, Lambda\n",
        "from keras import backend as K\n",
        "from keras.datasets.mnist import load_data\n",
        "import numpy as np\n",
        "from keras.optimizers import Adam"
      ],
      "execution_count": null,
      "outputs": []
    },
    {
      "cell_type": "code",
      "metadata": {
        "id": "1i0MesE5-KKE"
      },
      "source": [
        "input_size = 28 * 28\r\n",
        "temp_size = 256\r\n",
        "latent_dim = 2"
      ],
      "execution_count": null,
      "outputs": []
    },
    {
      "cell_type": "code",
      "metadata": {
        "id": "ou94OCxP-QKW"
      },
      "source": [
        "# defining model\r\n",
        "inputs = keras.Input(shape=(input_size,))\r\n",
        "x = Dense(temp_size, activation='relu')(inputs)\r\n",
        "x = Dense(temp_size, activation='relu')(x)\r\n",
        "z_mean = Dense(latent_dim)(x)\r\n",
        "z_log_sigma = Dense(latent_dim)(x)\r\n",
        "\r\n",
        "def sampling(args):\r\n",
        "    z_mean, z_log_sigma = args\r\n",
        "    epsilon = K.random_normal(shape=(K.shape(z_mean)[0], latent_dim), mean=0., stddev=0.1)\r\n",
        "    return z_mean + K.exp(z_log_sigma) * epsilon\r\n",
        "z = Lambda(sampling)([z_mean, z_log_sigma])\r\n",
        "\r\n",
        "#encoder\r\n",
        "encoder = keras.Model(inputs, [z_mean, z_log_sigma, z])\r\n",
        "\r\n",
        "#deocder\r\n",
        "latent_inputs = keras.Input(shape=(latent_dim,))\r\n",
        "y= Dense(temp_size, activation='relu')(latent_inputs)\r\n",
        "y= Dense(temp_size, activation='relu')(y)\r\n",
        "outputs = Dense(input_size, activation='sigmoid')(y)\r\n",
        "decoder = keras.Model(latent_inputs, outputs)\r\n",
        "\r\n",
        "outputs = decoder(encoder(inputs)[2])\r\n",
        "final_model = keras.Model(inputs, outputs)"
      ],
      "execution_count": null,
      "outputs": []
    },
    {
      "cell_type": "code",
      "metadata": {
        "id": "wcQg74j4-k9c"
      },
      "source": [
        "reconstruction_loss = keras.losses.binary_crossentropy(inputs, outputs)\r\n",
        "reconstruction_loss = reconstruction_loss * input_size\r\n",
        "kl_loss = -0.5 * K.sum((1 + z_log_sigma - K.square(z_mean) - K.exp(z_log_sigma)), axis=-1)\r\n",
        "final_loss = K.mean(reconstruction_loss + kl_loss)\r\n",
        "final_model.add_loss(final_loss)\r\n",
        "opt = Adam(lr=0.0002)\r\n",
        "final_model.compile(optimizer=opt)"
      ],
      "execution_count": null,
      "outputs": []
    },
    {
      "cell_type": "code",
      "metadata": {
        "id": "vOHHlG3L9yY0"
      },
      "source": [
        "# loading data\n",
        "(x_train, y_train), (x_test, y_test) = load_data()\n",
        "x_train = x_train.astype('float32')\n",
        "x_train = x_train / 255.\n",
        "x_test = x_test.astype('float32')\n",
        "x_test = x_test / 255.\n",
        "x_train = x_train.reshape((len(x_train), 28*28))\n",
        "x_test = x_test.reshape((len(x_test), 28*28))"
      ],
      "execution_count": null,
      "outputs": []
    },
    {
      "cell_type": "code",
      "metadata": {
        "colab": {
          "base_uri": "https://localhost:8080/"
        },
        "id": "QljOgYAn-nmq",
        "outputId": "afa85b09-b1d3-4ac1-cab7-a7851ccff47d"
      },
      "source": [
        "# training\r\n",
        "callback = keras.callbacks.EarlyStopping(monitor='loss', patience=3)\r\n",
        "\r\n",
        "final_model.fit(x_train, x_train, epochs=25, batch_size=64, validation_data=(x_test, x_test), callbacks=[callback])"
      ],
      "execution_count": null,
      "outputs": [
        {
          "output_type": "stream",
          "text": [
            "Epoch 1/25\n",
            "938/938 [==============================] - 12s 13ms/step - loss: 206.9113 - val_loss: 172.2817\n",
            "Epoch 2/25\n",
            "938/938 [==============================] - 12s 13ms/step - loss: 168.6045 - val_loss: 165.2046\n",
            "Epoch 3/25\n",
            "938/938 [==============================] - 12s 13ms/step - loss: 162.5374 - val_loss: 159.7585\n",
            "Epoch 4/25\n",
            "938/938 [==============================] - 13s 14ms/step - loss: 158.3162 - val_loss: 156.9903\n",
            "Epoch 5/25\n",
            "938/938 [==============================] - 12s 13ms/step - loss: 155.8193 - val_loss: 155.0305\n",
            "Epoch 6/25\n",
            "938/938 [==============================] - 12s 13ms/step - loss: 154.0645 - val_loss: 153.6315\n",
            "Epoch 7/25\n",
            "938/938 [==============================] - 12s 13ms/step - loss: 152.6588 - val_loss: 152.3206\n",
            "Epoch 8/25\n",
            "938/938 [==============================] - 12s 13ms/step - loss: 151.4195 - val_loss: 151.5483\n",
            "Epoch 9/25\n",
            "938/938 [==============================] - 12s 13ms/step - loss: 150.3547 - val_loss: 150.3120\n",
            "Epoch 10/25\n",
            "938/938 [==============================] - 12s 13ms/step - loss: 149.4800 - val_loss: 150.0045\n",
            "Epoch 11/25\n",
            "938/938 [==============================] - 12s 13ms/step - loss: 148.7712 - val_loss: 149.0490\n",
            "Epoch 12/25\n",
            "938/938 [==============================] - 12s 13ms/step - loss: 147.9596 - val_loss: 148.3574\n",
            "Epoch 13/25\n",
            "938/938 [==============================] - 12s 13ms/step - loss: 147.4344 - val_loss: 148.0101\n",
            "Epoch 14/25\n",
            "938/938 [==============================] - 13s 14ms/step - loss: 146.7206 - val_loss: 147.3521\n",
            "Epoch 15/25\n",
            "938/938 [==============================] - 17s 18ms/step - loss: 146.0526 - val_loss: 146.7749\n",
            "Epoch 16/25\n",
            "938/938 [==============================] - 12s 13ms/step - loss: 145.5590 - val_loss: 146.2523\n",
            "Epoch 17/25\n",
            "938/938 [==============================] - 12s 13ms/step - loss: 145.0688 - val_loss: 146.3049\n",
            "Epoch 18/25\n",
            "938/938 [==============================] - 12s 13ms/step - loss: 144.4912 - val_loss: 145.6597\n",
            "Epoch 19/25\n",
            "938/938 [==============================] - 12s 13ms/step - loss: 144.0314 - val_loss: 145.4440\n",
            "Epoch 20/25\n",
            "938/938 [==============================] - 12s 13ms/step - loss: 143.6420 - val_loss: 144.9069\n",
            "Epoch 21/25\n",
            "938/938 [==============================] - 12s 13ms/step - loss: 143.2568 - val_loss: 144.4526\n",
            "Epoch 22/25\n",
            "938/938 [==============================] - 12s 13ms/step - loss: 142.8595 - val_loss: 144.2605\n",
            "Epoch 23/25\n",
            "938/938 [==============================] - 12s 13ms/step - loss: 142.5807 - val_loss: 144.0220\n",
            "Epoch 24/25\n",
            "938/938 [==============================] - 13s 13ms/step - loss: 142.2024 - val_loss: 143.7038\n",
            "Epoch 25/25\n",
            "938/938 [==============================] - 12s 13ms/step - loss: 141.8226 - val_loss: 143.3894\n"
          ],
          "name": "stdout"
        },
        {
          "output_type": "execute_result",
          "data": {
            "text/plain": [
              "<tensorflow.python.keras.callbacks.History at 0x7f6ef637e550>"
            ]
          },
          "metadata": {
            "tags": []
          },
          "execution_count": 6
        }
      ]
    },
    {
      "cell_type": "code",
      "metadata": {
        "id": "ncEjkrZT_CE_",
        "colab": {
          "base_uri": "https://localhost:8080/",
          "height": 248
        },
        "outputId": "2df2396f-ff27-469b-a7c3-9b018ec960f2"
      },
      "source": [
        "# plotting generated images\n",
        "for i in range(16):\n",
        "  plt.subplot(4,4,i+1)\n",
        "  plt.axis('off')\n",
        "  x_decoded = decoder.predict(np.array([[np.random.uniform(-15,15),np.random.uniform(-15,15)]]))\n",
        "  plt.imshow(x_decoded[0].reshape(28, 28), cmap='gray_r')\n",
        "plt.show()"
      ],
      "execution_count": null,
      "outputs": [
        {
          "output_type": "display_data",
          "data": {
            "image/png": "[encoded data removed]",
            "text/plain": [
              "<Figure size 432x288 with 16 Axes>"
            ]
          },
          "metadata": {
            "tags": [],
            "needs_background": "light"
          }
        }
      ]
    },
    {
      "cell_type": "code",
      "metadata": {
        "id": "2jvE7tcO8X6L",
        "colab": {
          "base_uri": "https://localhost:8080/"
        },
        "outputId": "9884b533-7fe3-48bd-d262-ac55705bfac3"
      },
      "source": [
        "encoder.summary()"
      ],
      "execution_count": null,
      "outputs": [
        {
          "output_type": "stream",
          "text": [
            "Model: \"functional_1\"\n",
            "__________________________________________________________________________________________________\n",
            "Layer (type)                    Output Shape         Param #     Connected to                     \n",
            "==================================================================================================\n",
            "input_1 (InputLayer)            [(None, 784)]        0                                            \n",
            "__________________________________________________________________________________________________\n",
            "dense (Dense)                   (None, 256)          200960      input_1[0][0]                    \n",
            "__________________________________________________________________________________________________\n",
            "dense_1 (Dense)                 (None, 256)          65792       dense[0][0]                      \n",
            "__________________________________________________________________________________________________\n",
            "dense_2 (Dense)                 (None, 2)            514         dense_1[0][0]                    \n",
            "__________________________________________________________________________________________________\n",
            "dense_3 (Dense)                 (None, 2)            514         dense_1[0][0]                    \n",
            "__________________________________________________________________________________________________\n",
            "lambda (Lambda)                 (None, 2)            0           dense_2[0][0]                    \n",
            "                                                                 dense_3[0][0]                    \n",
            "==================================================================================================\n",
            "Total params: 267,780\n",
            "Trainable params: 267,780\n",
            "Non-trainable params: 0\n",
            "__________________________________________________________________________________________________\n"
          ],
          "name": "stdout"
        }
      ]
    },
    {
      "cell_type": "code",
      "metadata": {
        "colab": {
          "base_uri": "https://localhost:8080/"
        },
        "id": "jPS2BDpJvs3m",
        "outputId": "453c8a96-bd9d-4751-db3a-0b90c1116030"
      },
      "source": [
        "decoder.summary()"
      ],
      "execution_count": null,
      "outputs": [
        {
          "output_type": "stream",
          "text": [
            "Model: \"functional_3\"\n",
            "_________________________________________________________________\n",
            "Layer (type)                 Output Shape              Param #   \n",
            "=================================================================\n",
            "input_2 (InputLayer)         [(None, 2)]               0         \n",
            "_________________________________________________________________\n",
            "dense_4 (Dense)              (None, 256)               768       \n",
            "_________________________________________________________________\n",
            "dense_5 (Dense)              (None, 256)               65792     \n",
            "_________________________________________________________________\n",
            "dense_6 (Dense)              (None, 784)               201488    \n",
            "=================================================================\n",
            "Total params: 268,048\n",
            "Trainable params: 268,048\n",
            "Non-trainable params: 0\n",
            "_________________________________________________________________\n"
          ],
          "name": "stdout"
        }
      ]
    },
    {
      "cell_type": "code",
      "metadata": {
        "id": "2zQHMQkbvzUa"
      },
      "source": [
        ""
      ],
      "execution_count": null,
      "outputs": []
    }
  ]
}