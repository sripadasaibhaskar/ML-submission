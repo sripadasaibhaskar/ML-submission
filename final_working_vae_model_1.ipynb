{
  "nbformat": 4,
  "nbformat_minor": 0,
  "metadata": {
    "colab": {
      "name": "vae_working_model_1.ipynb",
      "provenance": [],
      "collapsed_sections": []
    },
    "kernelspec": {
      "name": "python3",
      "display_name": "Python 3"
    }
  },
  "cells": [
    {
      "cell_type": "code",
      "metadata": {
        "id": "w_AAIvmW2j_U"
      },
      "source": [
        "import matplotlib.pyplot as plt\n",
        "import keras\n",
        "from keras.layers import Dense, Lambda\n",
        "from keras import backend as K\n",
        "from keras.datasets.mnist import load_data\n",
        "import numpy as np\n",
        "from keras.optimizers import Adam"
      ],
      "execution_count": 1,
      "outputs": []
    },
    {
      "cell_type": "code",
      "metadata": {
        "id": "1i0MesE5-KKE"
      },
      "source": [
        "input_size = 28 * 28\r\n",
        "temp_size = 64\r\n",
        "latent_dim = 2"
      ],
      "execution_count": 2,
      "outputs": []
    },
    {
      "cell_type": "code",
      "metadata": {
        "id": "ou94OCxP-QKW",
        "colab": {
          "base_uri": "https://localhost:8080/"
        },
        "outputId": "413e5de3-231a-4c97-aaa7-c015b89033b1"
      },
      "source": [
        "# defining model\r\n",
        "inputs = keras.Input(shape=(input_size,))\r\n",
        "x = Dense(temp_size, activation='relu')(inputs)\r\n",
        "x = Dense(temp_size, activation='relu')(x)\r\n",
        "z_mean = Dense(latent_dim)(x)\r\n",
        "z_log_sigma = Dense(latent_dim)(x)\r\n",
        "\r\n",
        "def sampling(args):\r\n",
        "    z_mean, z_log_sigma = args\r\n",
        "    epsilon = K.random_normal(shape=(K.shape(z_mean)[0], latent_dim), mean=0., stddev=0.1)\r\n",
        "    return z_mean + K.exp(z_log_sigma) * epsilon\r\n",
        "z = Lambda(sampling)([z_mean, z_log_sigma])\r\n",
        "\r\n",
        "#encoder\r\n",
        "encoder = keras.Model(inputs, [z_mean, z_log_sigma, z])\r\n",
        "\r\n",
        "#deocder\r\n",
        "latent_inputs = keras.Input(shape=(latent_dim,))\r\n",
        "y= Dense(temp_size, activation='relu')(latent_inputs)\r\n",
        "y= Dense(temp_size, activation='relu')(y)\r\n",
        "outputs = Dense(input_size, activation='sigmoid')(y)\r\n",
        "decoder = keras.Model(latent_inputs, outputs)\r\n",
        "\r\n",
        "outputs = decoder(encoder(inputs)[2])\r\n",
        "final_model = keras.Model(inputs, outputs)"
      ],
      "execution_count": 3,
      "outputs": [
        {
          "output_type": "stream",
          "text": [
            "Model: \"functional_1\"\n",
            "__________________________________________________________________________________________________\n",
            "Layer (type)                    Output Shape         Param #     Connected to                     \n",
            "==================================================================================================\n",
            "input_1 (InputLayer)            [(None, 784)]        0                                            \n",
            "__________________________________________________________________________________________________\n",
            "dense (Dense)                   (None, 64)           50240       input_1[0][0]                    \n",
            "__________________________________________________________________________________________________\n",
            "dense_1 (Dense)                 (None, 64)           4160        dense[0][0]                      \n",
            "__________________________________________________________________________________________________\n",
            "dense_2 (Dense)                 (None, 2)            130         dense_1[0][0]                    \n",
            "__________________________________________________________________________________________________\n",
            "dense_3 (Dense)                 (None, 2)            130         dense_1[0][0]                    \n",
            "__________________________________________________________________________________________________\n",
            "lambda (Lambda)                 (None, 2)            0           dense_2[0][0]                    \n",
            "                                                                 dense_3[0][0]                    \n",
            "==================================================================================================\n",
            "Total params: 54,660\n",
            "Trainable params: 54,660\n",
            "Non-trainable params: 0\n",
            "__________________________________________________________________________________________________\n",
            "Model: \"functional_3\"\n",
            "_________________________________________________________________\n",
            "Layer (type)                 Output Shape              Param #   \n",
            "=================================================================\n",
            "input_2 (InputLayer)         [(None, 2)]               0         \n",
            "_________________________________________________________________\n",
            "dense_4 (Dense)              (None, 64)                192       \n",
            "_________________________________________________________________\n",
            "dense_5 (Dense)              (None, 64)                4160      \n",
            "_________________________________________________________________\n",
            "dense_6 (Dense)              (None, 784)               50960     \n",
            "=================================================================\n",
            "Total params: 55,312\n",
            "Trainable params: 55,312\n",
            "Non-trainable params: 0\n",
            "_________________________________________________________________\n"
          ],
          "name": "stdout"
        }
      ]
    },
    {
      "cell_type": "code",
      "metadata": {
        "id": "wcQg74j4-k9c"
      },
      "source": [
        "reconstruction_loss = keras.losses.binary_crossentropy(inputs, outputs)\r\n",
        "reconstruction_loss = reconstruction_loss * input_size\r\n",
        "kl_loss = -0.5 * K.sum((1 + z_log_sigma - K.square(z_mean) - K.exp(z_log_sigma)), axis=-1)\r\n",
        "final_loss = K.mean(reconstruction_loss + kl_loss)\r\n",
        "final_model.add_loss(final_loss)\r\n",
        "opt = Adam(lr=0.0002)\r\n",
        "final_model.compile(optimizer=opt)"
      ],
      "execution_count": null,
      "outputs": []
    },
    {
      "cell_type": "code",
      "metadata": {
        "colab": {
          "base_uri": "https://localhost:8080/"
        },
        "id": "vOHHlG3L9yY0",
        "outputId": "226a8cb4-4fd4-47c7-fc5f-2844a06d71b1"
      },
      "source": [
        "# loading data\n",
        "(x_train, y_train), (x_test, y_test) = load_data()\n",
        "x_train = x_train.astype('float32')\n",
        "x_train = x_train / 255.\n",
        "x_test = x_test.astype('float32')\n",
        "x_test = x_test / 255.\n",
        "x_train = x_train.reshape((len(x_train), 28*28))\n",
        "x_test = x_test.reshape((len(x_test), 28*28))"
      ],
      "execution_count": null,
      "outputs": [
        {
          "output_type": "stream",
          "text": [
            "Downloading data from https://storage.googleapis.com/tensorflow/tf-keras-datasets/mnist.npz\n",
            "11493376/11490434 [==============================] - 0s 0us/step\n"
          ],
          "name": "stdout"
        }
      ]
    },
    {
      "cell_type": "code",
      "metadata": {
        "colab": {
          "base_uri": "https://localhost:8080/"
        },
        "id": "QljOgYAn-nmq",
        "outputId": "91ef37c7-30a7-422c-9e33-e2a08df452d2"
      },
      "source": [
        "# training\r\n",
        "callback = keras.callbacks.EarlyStopping(monitor='loss', patience=3)\r\n",
        "\r\n",
        "final_model.fit(x_train, x_train, epochs=25, batch_size=64, validation_data=(x_test, x_test), callbacks=[callback])"
      ],
      "execution_count": null,
      "outputs": [
        {
          "output_type": "stream",
          "text": [
            "Epoch 1/25\n",
            "938/938 [==============================] - 5s 6ms/step - loss: 241.2305 - val_loss: 189.9491\n",
            "Epoch 2/25\n",
            "938/938 [==============================] - 5s 5ms/step - loss: 180.9930 - val_loss: 173.1652\n",
            "Epoch 3/25\n",
            "938/938 [==============================] - 5s 6ms/step - loss: 170.8880 - val_loss: 168.3488\n",
            "Epoch 4/25\n",
            "938/938 [==============================] - 5s 5ms/step - loss: 166.8908 - val_loss: 165.9647\n",
            "Epoch 5/25\n",
            "938/938 [==============================] - 5s 5ms/step - loss: 164.8453 - val_loss: 164.4644\n",
            "Epoch 6/25\n",
            "938/938 [==============================] - 5s 5ms/step - loss: 163.3893 - val_loss: 163.0497\n",
            "Epoch 7/25\n",
            "938/938 [==============================] - 5s 5ms/step - loss: 162.1742 - val_loss: 162.0328\n",
            "Epoch 8/25\n",
            "938/938 [==============================] - 5s 5ms/step - loss: 161.1256 - val_loss: 160.9500\n",
            "Epoch 9/25\n",
            "938/938 [==============================] - 5s 5ms/step - loss: 160.1039 - val_loss: 160.0640\n",
            "Epoch 10/25\n",
            "938/938 [==============================] - 5s 5ms/step - loss: 159.1602 - val_loss: 159.1416\n",
            "Epoch 11/25\n",
            "938/938 [==============================] - 5s 5ms/step - loss: 158.1699 - val_loss: 158.3055\n",
            "Epoch 12/25\n",
            "938/938 [==============================] - 5s 5ms/step - loss: 157.2750 - val_loss: 157.4735\n",
            "Epoch 13/25\n",
            "938/938 [==============================] - 5s 5ms/step - loss: 156.4753 - val_loss: 156.6733\n",
            "Epoch 14/25\n",
            "938/938 [==============================] - 5s 5ms/step - loss: 155.7370 - val_loss: 156.0320\n",
            "Epoch 15/25\n",
            "938/938 [==============================] - 5s 5ms/step - loss: 155.0532 - val_loss: 155.4012\n",
            "Epoch 16/25\n",
            "938/938 [==============================] - 5s 5ms/step - loss: 154.3919 - val_loss: 154.6739\n",
            "Epoch 17/25\n",
            "938/938 [==============================] - 5s 5ms/step - loss: 153.7854 - val_loss: 154.1443\n",
            "Epoch 18/25\n",
            "938/938 [==============================] - 5s 5ms/step - loss: 153.2241 - val_loss: 153.7604\n",
            "Epoch 19/25\n",
            "938/938 [==============================] - 5s 5ms/step - loss: 152.6732 - val_loss: 153.2948\n",
            "Epoch 20/25\n",
            "938/938 [==============================] - 5s 5ms/step - loss: 152.1632 - val_loss: 152.6803\n",
            "Epoch 21/25\n",
            "938/938 [==============================] - 5s 5ms/step - loss: 151.7277 - val_loss: 152.3950\n",
            "Epoch 22/25\n",
            "938/938 [==============================] - 5s 5ms/step - loss: 151.2758 - val_loss: 151.8758\n",
            "Epoch 23/25\n",
            "938/938 [==============================] - 5s 5ms/step - loss: 150.8778 - val_loss: 151.4940\n",
            "Epoch 24/25\n",
            "938/938 [==============================] - 5s 5ms/step - loss: 150.4967 - val_loss: 151.2446\n",
            "Epoch 25/25\n",
            "938/938 [==============================] - 5s 5ms/step - loss: 150.1268 - val_loss: 150.9356\n"
          ],
          "name": "stdout"
        },
        {
          "output_type": "execute_result",
          "data": {
            "text/plain": [
              "<tensorflow.python.keras.callbacks.History at 0x7ff527e79668>"
            ]
          },
          "metadata": {
            "tags": []
          },
          "execution_count": 6
        }
      ]
    },
    {
      "cell_type": "code",
      "metadata": {
        "id": "ncEjkrZT_CE_",
        "colab": {
          "base_uri": "https://localhost:8080/",
          "height": 248
        },
        "outputId": "ca8a9918-b123-44f6-e7d8-3a8baa755dec"
      },
      "source": [
        "# plotting generated images\n",
        "for i in range(16):\n",
        "  plt.subplot(4,4,i+1)\n",
        "  plt.axis('off')\n",
        "  x_decoded = decoder.predict(np.array([[np.random.uniform(-15,15),np.random.uniform(-15,15)]]))\n",
        "  plt.imshow(x_decoded[0].reshape(28, 28), cmap='gray_r')\n",
        "plt.show()"
      ],
      "execution_count": null,
      "outputs": [
        {
          "output_type": "display_data",
          "data": {
            "image/png": "[encoded data removed]",
            "text/plain": [
              "<Figure size 432x288 with 16 Axes>"
            ]
          },
          "metadata": {
            "tags": [],
            "needs_background": "light"
          }
        }
      ]
    },
    {
      "cell_type": "code",
      "metadata": {
        "id": "2jvE7tcO8X6L",
        "colab": {
          "base_uri": "https://localhost:8080/"
        },
        "outputId": "8c8b0111-b149-4a9c-a3e7-c9411880e460"
      },
      "source": [
        "encoder.summary()\r\n"
      ],
      "execution_count": 4,
      "outputs": [
        {
          "output_type": "stream",
          "text": [
            "Model: \"functional_1\"\n",
            "__________________________________________________________________________________________________\n",
            "Layer (type)                    Output Shape         Param #     Connected to                     \n",
            "==================================================================================================\n",
            "input_1 (InputLayer)            [(None, 784)]        0                                            \n",
            "__________________________________________________________________________________________________\n",
            "dense (Dense)                   (None, 64)           50240       input_1[0][0]                    \n",
            "__________________________________________________________________________________________________\n",
            "dense_1 (Dense)                 (None, 64)           4160        dense[0][0]                      \n",
            "__________________________________________________________________________________________________\n",
            "dense_2 (Dense)                 (None, 2)            130         dense_1[0][0]                    \n",
            "__________________________________________________________________________________________________\n",
            "dense_3 (Dense)                 (None, 2)            130         dense_1[0][0]                    \n",
            "__________________________________________________________________________________________________\n",
            "lambda (Lambda)                 (None, 2)            0           dense_2[0][0]                    \n",
            "                                                                 dense_3[0][0]                    \n",
            "==================================================================================================\n",
            "Total params: 54,660\n",
            "Trainable params: 54,660\n",
            "Non-trainable params: 0\n",
            "__________________________________________________________________________________________________\n"
          ],
          "name": "stdout"
        }
      ]
    },
    {
      "cell_type": "code",
      "metadata": {
        "colab": {
          "base_uri": "https://localhost:8080/"
        },
        "id": "p_fRf64-uwbm",
        "outputId": "92370883-5cb8-493a-f5e0-d024f2c1edc2"
      },
      "source": [
        "decoder.summary()\r\n"
      ],
      "execution_count": 5,
      "outputs": [
        {
          "output_type": "stream",
          "text": [
            "Model: \"functional_3\"\n",
            "_________________________________________________________________\n",
            "Layer (type)                 Output Shape              Param #   \n",
            "=================================================================\n",
            "input_2 (InputLayer)         [(None, 2)]               0         \n",
            "_________________________________________________________________\n",
            "dense_4 (Dense)              (None, 64)                192       \n",
            "_________________________________________________________________\n",
            "dense_5 (Dense)              (None, 64)                4160      \n",
            "_________________________________________________________________\n",
            "dense_6 (Dense)              (None, 784)               50960     \n",
            "=================================================================\n",
            "Total params: 55,312\n",
            "Trainable params: 55,312\n",
            "Non-trainable params: 0\n",
            "_________________________________________________________________\n"
          ],
          "name": "stdout"
        }
      ]
    },
    {
      "cell_type": "code",
      "metadata": {
        "id": "pcQoui_WuxG-"
      },
      "source": [
        ""
      ],
      "execution_count": null,
      "outputs": []
    }
  ]
}